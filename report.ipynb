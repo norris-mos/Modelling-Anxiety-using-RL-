{
 "cells": [
  {
   "cell_type": "markdown",
   "metadata": {},
   "source": [
    "Task a: Exploring the Data:\n",
    "\n",
    "Load and explore the provided data. Compute the mean, standard deviation and median of the STAI-Y2 scores (trait anxiety).\n",
    "\n",
    "Given a cutoff score of 43 (i.e. STAI ≤ 43 is healthy), how many participants would be considered healthy controls? Report the indices of the control subjects. We know that the first 25 participants were recruited from the anxious population, and the last 25 from the calm population. Based on the above cutoff, do the participants fit in the correct group?\n",
    "\n",
    "Note: for the rest of the assignment we will consider the first 25 participants as the high anxious ones, and the last 25 as the low anxious ones.\n",
    "Compute the number of times each participant choose option A. Report the average of this number (or percentage) across all subjects. What is the expected number of aversive sounds experienced by participants who respond randomly throughout the experiment? Did our participants perform the task well?\n",
    "\n",
    "Hint: the proportion of times subject 3 chose option A is about 20%."
   ]
  },
  {
   "cell_type": "code",
   "execution_count": 30,
   "metadata": {},
   "outputs": [],
   "source": [
    "import numpy as np\n",
    "import pandas as pd\n",
    "%autoreload 2\n",
    "from src.task1 import *\n"
   ]
  },
  {
   "cell_type": "code",
   "execution_count": 31,
   "metadata": {},
   "outputs": [
    {
     "name": "stdout",
     "output_type": "stream",
     "text": [
      "The autoreload extension is already loaded. To reload it, use:\n",
      "  %reload_ext autoreload\n"
     ]
    }
   ],
   "source": [
    "%load_ext autoreload\n"
   ]
  },
  {
   "cell_type": "code",
   "execution_count": 33,
   "metadata": {},
   "outputs": [],
   "source": [
    "stai = load('/Users/maxoliverstapyltonnorris/Desktop/datsci/ccns/Modelling-Anxiety-using-RL-/data_2023/stai_scores.csv')\n",
    "control,high,low = filter_healthy(stai)\n",
    "choices,s_t,e_t,s_f,sf_tf = number_choosing_a('/Users/maxoliverstapyltonnorris/Desktop/datsci/ccns/Modelling-Anxiety-using-RL-/data_2023/inst_choices.csv')\n"
   ]
  },
  {
   "cell_type": "markdown",
   "metadata": {},
   "source": [
    "Task 2 - Simulation"
   ]
  },
  {
   "cell_type": "markdown",
   "metadata": {},
   "source": [
    "Since we are working with a generative model, we are able to simulate data, which can be extremely useful. Use equations eq. (1) and eq. (2) to write a function that lets you generate data from known parameters (the parameter values should be an input to the function). Generate the outcomes with probabilities which are changing every 40 trials as described in the introduction.\n",
    "Hint: You can take inspiration from the code from the lectures to help you get started.\n",
    "Simulate 160 choices with parameter settings α = 0.4, β = 7 and V0 = 0.5 for both options a number of times. (Choose a reasonable number so you can average the simulations). Illustrate the average evolution of values V (A) and V (B). Illustrate the average evolution of the difference in V values of the two stimuli (i.e. show how V (A)−V (B) changes, on average, over the course of the simulated experiments). Very briefly explain what is observed and why the shape of this evolution makes sense.\n",
    "Hint: The average number of aversive sounds from a large number of simulations using the parameter values stated above should be around 58."
   ]
  },
  {
   "cell_type": "code",
   "execution_count": null,
   "metadata": {},
   "outputs": [],
   "source": []
  }
 ],
 "metadata": {
  "kernelspec": {
   "display_name": "Python 3.9.0 64-bit ('3.9.0')",
   "language": "python",
   "name": "python3"
  },
  "language_info": {
   "codemirror_mode": {
    "name": "ipython",
    "version": 3
   },
   "file_extension": ".py",
   "mimetype": "text/x-python",
   "name": "python",
   "nbconvert_exporter": "python",
   "pygments_lexer": "ipython3",
   "version": "3.9.0"
  },
  "orig_nbformat": 4,
  "vscode": {
   "interpreter": {
    "hash": "e473e9e2ee5572db6cc3901850ca01b485c57a9f747b159483413d4911eec123"
   }
  }
 },
 "nbformat": 4,
 "nbformat_minor": 2
}
