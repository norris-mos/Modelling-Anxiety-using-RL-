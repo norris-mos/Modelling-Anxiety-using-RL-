{
 "cells": [
  {
   "cell_type": "markdown",
   "metadata": {},
   "source": [
    "Task a: Exploring the Data:\n",
    "\n",
    "Load and explore the provided data. Compute the mean, standard deviation and median of the STAI-Y2 scores (trait anxiety).\n",
    "\n",
    "Given a cutoff score of 43 (i.e. STAI ≤ 43 is healthy), how many participants would be considered healthy controls? Report the indices of the control subjects. We know that the first 25 participants were recruited from the anxious population, and the last 25 from the calm population. Based on the above cutoff, do the participants fit in the correct group?\n",
    "\n",
    "Note: for the rest of the assignment we will consider the first 25 participants as the high anxious ones, and the last 25 as the low anxious ones.\n",
    "Compute the number of times each participant choose option A. Report the average of this number (or percentage) across all subjects. What is the expected number of aversive sounds experienced by participants who respond randomly throughout the experiment? Did our participants perform the task well?\n",
    "\n",
    "Hint: the proportion of times subject 3 chose option A is about 20%."
   ]
  },
  {
   "cell_type": "code",
   "execution_count": 5,
   "metadata": {},
   "outputs": [],
   "source": [
    "import numpy as np\n",
    "import pandas as pd\n",
    "%autoreload 2\n",
    "from src.task1 import *\n",
    "from src.task2 import *\n",
    "from src.task3 import *\n",
    "from src.task4 import *\n",
    "from src.task5 import *\n",
    "from src.task6 import *\n"
   ]
  },
  {
   "cell_type": "code",
   "execution_count": 6,
   "metadata": {},
   "outputs": [
    {
     "name": "stdout",
     "output_type": "stream",
     "text": [
      "The autoreload extension is already loaded. To reload it, use:\n",
      "  %reload_ext autoreload\n"
     ]
    }
   ],
   "source": [
    "%load_ext autoreload\n"
   ]
  },
  {
   "cell_type": "code",
   "execution_count": 7,
   "metadata": {},
   "outputs": [],
   "source": [
    "stai = pd.read_csv('/Users/maxoliverstapyltonnorris/Desktop/datsci/ccns/Modelling-Anxiety-using-RL-/data_2023/stai_scores.csv',header=None)\n",
    "stai.columns=['score']\n",
    "control,high,low = filter_healthy(stai)\n",
    "choices,s_t,e_t,s_f,sf_tf = number_choosing_a('/Users/maxoliverstapyltonnorris/Desktop/datsci/ccns/Modelling-Anxiety-using-RL-/data_2023/inst_choices.csv')\n"
   ]
  },
  {
   "cell_type": "code",
   "execution_count": null,
   "metadata": {},
   "outputs": [],
   "source": [
    "# Assuming 'stai' is the DataFrame you want to analyze\n",
    "mean = stai.mean()\n",
    "std = stai.std()\n",
    "median = stai.median()\n"
   ]
  },
  {
   "cell_type": "code",
   "execution_count": null,
   "metadata": {},
   "outputs": [],
   "source": [
    "choices['sum_of_one'].mean()"
   ]
  },
  {
   "cell_type": "code",
   "execution_count": null,
   "metadata": {},
   "outputs": [],
   "source": [
    "number_of_aorb=160*0.5\n",
    "total_aversive=number_of_aorb*0.3125+number_of_aorb*0.6875\n",
    "total_aversive"
   ]
  },
  {
   "cell_type": "markdown",
   "metadata": {},
   "source": [
    "Task 2 - Simulation"
   ]
  },
  {
   "cell_type": "markdown",
   "metadata": {},
   "source": [
    "Since we are working with a generative model, we are able to simulate data, which can be extremely useful. Use equations eq. (1) and eq. (2) to write a function that lets you generate data from known parameters (the parameter values should be an input to the function). Generate the outcomes with probabilities which are changing every 40 trials as described in the introduction.\n",
    "Hint: You can take inspiration from the code from the lectures to help you get started.\n",
    "Simulate 160 choices with parameter settings α = 0.4, β = 7 and V0 = 0.5 for both options a number of times. (Choose a reasonable number so you can average the simulations). Illustrate the average evolution of values V (A) and V (B). Illustrate the average evolution of the difference in V values of the two stimuli (i.e. show how V (A)−V (B) changes, on average, over the course of the simulated experiments). Very briefly explain what is observed and why the shape of this evolution makes sense.\n",
    "Hint: The average number of aversive sounds from a large number of simulations using the parameter values stated above should be around 58."
   ]
  },
  {
   "cell_type": "code",
   "execution_count": null,
   "metadata": {},
   "outputs": [],
   "source": [
    "choice,outcomes,V_a,V_b = generate_data(0.4,7)"
   ]
  },
  {
   "cell_type": "code",
   "execution_count": null,
   "metadata": {},
   "outputs": [],
   "source": [
    "df_sims=simulation_df(0.4,7,1000)"
   ]
  },
  {
   "cell_type": "markdown",
   "metadata": {},
   "source": [
    "Task (c): Exploring parameter settings (7)\n",
    "Simulate 160 choices several times for a number of different parameter settings. Systematically vary settings of α and β to explore how different values affect the average number of aversive stimuli received. Plot the average number of aversive stimuli received as a function of the parameter settings, which means there will be three dimensions. Choose sensible ranges for the parameters (e.g. 0 < α < 1 and 0 < β < 10).\n",
    "Briefly describe your precise approach and comment on how the expected performance during the experiment is related to different settings of the parameters."
   ]
  },
  {
   "cell_type": "code",
   "execution_count": null,
   "metadata": {},
   "outputs": [],
   "source": [
    "plot_alpha_beta()"
   ]
  },
  {
   "cell_type": "markdown",
   "metadata": {},
   "source": [
    "Task (d): Likelihood function (6)\n",
    "To find the parameter values that best capture each participant’s behaviour, we need to define the likelihood of the parameters. Write a function that takes as input the data (choices and outcomes) for an individual and a vector of parameters (learning rate and inverse temperature) and returns the negative log likelihood (NLL) of these parameters (note that θ is the parameter vector containing both α and β):\n",
    "NLL = − 􏰀 logp(c | V,θ). (3) c∈C hoices\n",
    "Hint: You can take inspiration use the code from the lectures to help you get started.\n",
    "Report the NLL for the 4th and the 5th participant using parameter settings α = 0.4, β = 7, V0 = 0.5. Hint: If you compute the NLL for the 9th participant using the above parameters it should be around 61."
   ]
  },
  {
   "cell_type": "code",
   "execution_count": 8,
   "metadata": {},
   "outputs": [],
   "source": [
    "outcomes_df = outcomes_df('/Users/maxoliverstapyltonnorris/Desktop/datsci/ccns/Modelling-Anxiety-using-RL-/data_2023/inst_outcomes.csv')\n",
    "choices_drop=choices.drop(columns=['average_ones_per_row','sum_of_one'])"
   ]
  },
  {
   "cell_type": "code",
   "execution_count": null,
   "metadata": {},
   "outputs": [],
   "source": [
    "likelihoods = whole_df(choices_drop,outcomes_df,stai)"
   ]
  },
  {
   "cell_type": "code",
   "execution_count": null,
   "metadata": {},
   "outputs": [],
   "source": [
    "likelihoods"
   ]
  },
  {
   "cell_type": "code",
   "execution_count": null,
   "metadata": {},
   "outputs": [],
   "source": [
    "outcomes_df.iloc[8,:]\n",
    "choices_drop.iloc[8,:]"
   ]
  },
  {
   "cell_type": "code",
   "execution_count": null,
   "metadata": {},
   "outputs": [],
   "source": [
    "fifth = NLL(choices_drop.iloc[3,:],outcomes_df.iloc[3,:],(0.4,7,0.5))"
   ]
  },
  {
   "cell_type": "code",
   "execution_count": null,
   "metadata": {},
   "outputs": [],
   "source": [
    "fifth"
   ]
  },
  {
   "cell_type": "code",
   "execution_count": null,
   "metadata": {},
   "outputs": [],
   "source": [
    "df_optimal = param_finder(choices_drop,outcomes_df)"
   ]
  },
  {
   "cell_type": "code",
   "execution_count": null,
   "metadata": {},
   "outputs": [],
   "source": []
  },
  {
   "cell_type": "code",
   "execution_count": null,
   "metadata": {},
   "outputs": [],
   "source": [
    "model_fitting(df_optimal)"
   ]
  },
  {
   "cell_type": "markdown",
   "metadata": {},
   "source": [
    "\n",
    "Task (g): Parameter recovery (9)\n",
    "We now want to check the reliability and identifiability of our parameter estimates. Sample 50 sets of parameter values of learning rate and inverse temperature from a multivariate normal distributions. Choose sensible numbers for the mean of this distribution and describe how you chose them; choose small numbers\n",
    "4\n",
    "for the variance (e.g. 0.01 and 0.5 for α and β respectively); set the covariance to zero. Illustrate the sampled values and highlight and exclude (resample) nonsensical values.\n",
    "Use the sampled parameter values to simulate 50 sets of data (as in Task (b)). Fit new parameter values to these simulated data sets (as in Task (e)). Calculate, report and illustrate the Pearson’s correlation between the parameter values you used to simulate the data and the parameter values that you obtained from fitting the model to the simulated data.\n",
    "Repeat this process 5 times and report the Pearson’s correlation each time (there is no need for you to plot the sampled values all 5 times, the correlation coefficients are enough).\n",
    "Comment briefly. Does this parameter recovery simulation meet your expectations? Explore and describe how the number of trials and the number of simulated data sets affects the performance of the parameter recovery.\n"
   ]
  },
  {
   "cell_type": "code",
   "execution_count": null,
   "metadata": {},
   "outputs": [],
   "source": [
    "a_mean=df_optimal['optimized_alpha'].mean()\n",
    "b_mean=df_optimal['optimized_beta'].mean()\n",
    "var=(0.01,0.5)\n",
    "samples=multi_variate(a_mean,b_mean,var[0],var[1])"
   ]
  },
  {
   "cell_type": "code",
   "execution_count": null,
   "metadata": {},
   "outputs": [],
   "source": [
    "choices_reconstructed,outcomes_reconstructed=param_reconstruction(samples)"
   ]
  },
  {
   "cell_type": "code",
   "execution_count": null,
   "metadata": {},
   "outputs": [],
   "source": [
    "df_optimal_reconstructed = param_finder(choices_reconstructed,outcomes_reconstructed)"
   ]
  },
  {
   "cell_type": "markdown",
   "metadata": {},
   "source": [
    "Task (h): Alternative model (9)\n",
    "In addition to model 1, which you already implemented, we will now be considering an additional model. Model 2 introduces a parameter A. What is the effect of A in this model? How it can be interpreted?\n",
    "V(t+1) =A×V(t) +α×(o(t) −V(t)) (4) iii\n",
    "Action selection for this model is again performed by the same softmax equation described in eq. (2) exp(−β × V (t))\n",
    "p(action A | V (t), β) = A . (5) exp(−β × V (t)) + exp(−β × V (t))\n",
    " 1. Implement simulation and (negative) log likelihood functions for this new model.\n",
    "2. Fit the new model (use α = 0.4, β = 5, A = 0.5 as initial values). Illustrate the fitted parameter values. Are the results surprising or as expected? Can you explain them? What can be done if the results are not as expected?"
   ]
  },
  {
   "cell_type": "code",
   "execution_count": null,
   "metadata": {},
   "outputs": [],
   "source": [
    "likelihood_alt = whole_df_alt(choices_drop,outcomes_df,stai)"
   ]
  },
  {
   "cell_type": "code",
   "execution_count": 11,
   "metadata": {},
   "outputs": [
    {
     "name": "stdout",
     "output_type": "stream",
     "text": [
      "Optimization terminated successfully.\n",
      "         Current function value: 48.705924\n",
      "         Iterations: 124\n",
      "         Function evaluations: 221\n",
      "Optimized parameters: [0.79460462 5.04477851 0.5391102  1.14875515]\n",
      "Optimization terminated successfully.\n",
      "         Current function value: 52.858091\n",
      "         Iterations: 237\n",
      "         Function evaluations: 391\n",
      "Optimized parameters: [1.5537007  4.39171834 0.50831724 0.55651986]\n",
      "Optimization terminated successfully.\n",
      "         Current function value: 55.459074\n",
      "         Iterations: 115\n",
      "         Function evaluations: 205\n",
      "Optimized parameters: [0.99859862 3.95435306 0.3652085  0.68409968]\n",
      "Optimization terminated successfully.\n",
      "         Current function value: 80.600188\n",
      "         Iterations: 285\n",
      "         Function evaluations: 479\n",
      "Optimized parameters: [5.30795324 2.65856413 0.8734638  0.12627484]\n",
      "Optimization terminated successfully.\n",
      "         Current function value: 50.487083\n",
      "         Iterations: 112\n",
      "         Function evaluations: 185\n",
      "Optimized parameters: [ 0.31306285  6.99959812 -0.11472969  0.91075707]\n",
      "Optimization terminated successfully.\n",
      "         Current function value: 44.031217\n",
      "         Iterations: 118\n",
      "         Function evaluations: 212\n",
      "Optimized parameters: [ 0.5135691   4.49912012 -0.10079345  0.99156581]\n",
      "Optimization terminated successfully.\n",
      "         Current function value: 48.984745\n",
      "         Iterations: 102\n",
      "         Function evaluations: 179\n",
      "Optimized parameters: [0.61870553 5.04100737 0.32662946 0.73056574]\n",
      "Optimization terminated successfully.\n",
      "         Current function value: 42.330646\n",
      "         Iterations: 103\n",
      "         Function evaluations: 182\n",
      "Optimized parameters: [0.87653705 6.15301948 0.65467243 0.66939626]\n",
      "Optimization terminated successfully.\n",
      "         Current function value: 56.795794\n",
      "         Iterations: 113\n",
      "         Function evaluations: 205\n",
      "Optimized parameters: [ 0.60892377  5.03717637 -0.24464851  0.83753176]\n",
      "Optimization terminated successfully.\n",
      "         Current function value: 79.398462\n",
      "         Iterations: 127\n",
      "         Function evaluations: 226\n",
      "Optimized parameters: [ 1.05190041  2.50533012 -0.01839904  0.77367561]\n",
      "Optimization terminated successfully.\n",
      "         Current function value: 86.727042\n",
      "         Iterations: 163\n",
      "         Function evaluations: 280\n",
      "Optimized parameters: [0.77992977 1.96007144 0.70675034 0.99646241]\n",
      "Optimization terminated successfully.\n",
      "         Current function value: 47.585509\n",
      "         Iterations: 149\n",
      "         Function evaluations: 253\n",
      "Optimized parameters: [0.91527923 5.23272673 0.26795262 0.70222306]\n",
      "Optimization terminated successfully.\n",
      "         Current function value: 42.666620\n",
      "         Iterations: 105\n",
      "         Function evaluations: 185\n",
      "Optimized parameters: [0.73933495 5.40774707 0.33826851 0.71725308]\n",
      "Optimization terminated successfully.\n",
      "         Current function value: 74.075573\n",
      "         Iterations: 151\n",
      "         Function evaluations: 265\n",
      "Optimized parameters: [ 0.27314651  3.22013791 -0.46281588  1.88539882]\n",
      "Optimization terminated successfully.\n",
      "         Current function value: 59.888504\n",
      "         Iterations: 120\n",
      "         Function evaluations: 212\n",
      "Optimized parameters: [0.73957676 4.02839191 0.12738874 0.84147436]\n",
      "Optimization terminated successfully.\n",
      "         Current function value: 48.346097\n",
      "         Iterations: 100\n",
      "         Function evaluations: 174\n",
      "Optimized parameters: [0.63995492 5.58231831 0.25973562 0.81478662]\n",
      "Optimization terminated successfully.\n",
      "         Current function value: 52.279349\n",
      "         Iterations: 166\n",
      "         Function evaluations: 281\n",
      "Optimized parameters: [ 0.26102506  5.11004337 -1.60969463  2.19742329]\n",
      "Optimization terminated successfully.\n",
      "         Current function value: 48.731479\n",
      "         Iterations: 278\n",
      "         Function evaluations: 467\n",
      "Optimized parameters: [ 0.1365959   4.76494333 -9.8716856   5.16617176]\n",
      "Optimization terminated successfully.\n",
      "         Current function value: 37.532806\n",
      "         Iterations: 109\n",
      "         Function evaluations: 189\n",
      "Optimized parameters: [0.82873483 6.23920637 0.61015937 0.74418613]\n",
      "Optimization terminated successfully.\n",
      "         Current function value: 68.931702\n",
      "         Iterations: 133\n",
      "         Function evaluations: 224\n",
      "Optimized parameters: [0.72601732 3.08755023 0.78721682 0.8150141 ]\n",
      "Optimization terminated successfully.\n",
      "         Current function value: 59.749692\n",
      "         Iterations: 78\n",
      "         Function evaluations: 148\n",
      "Optimized parameters: [0.53843581 5.57532677 0.46448475 0.72859161]\n",
      "Optimization terminated successfully.\n",
      "         Current function value: 43.548178\n",
      "         Iterations: 169\n",
      "         Function evaluations: 289\n",
      "Optimized parameters: [ 0.29583027  6.43890146 -6.43665363  1.54819097]\n",
      "Optimization terminated successfully.\n",
      "         Current function value: 64.408804\n",
      "         Iterations: 86\n",
      "         Function evaluations: 152\n",
      "Optimized parameters: [0.47934064 4.43019479 0.5255716  0.63715214]\n",
      "Optimization terminated successfully.\n",
      "         Current function value: 57.782547\n",
      "         Iterations: 141\n",
      "         Function evaluations: 249\n",
      "Optimized parameters: [ 0.76245262  4.57446121 -0.01985966  0.94956465]\n",
      "Optimization terminated successfully.\n",
      "         Current function value: 38.533622\n",
      "         Iterations: 86\n",
      "         Function evaluations: 151\n",
      "Optimized parameters: [0.5605501  7.12772287 0.22341161 0.7385601 ]\n",
      "Optimization terminated successfully.\n",
      "         Current function value: 72.559135\n",
      "         Iterations: 97\n",
      "         Function evaluations: 173\n",
      "Optimized parameters: [0.51035308 4.4102283  0.60909832 0.72162124]\n",
      "Optimization terminated successfully.\n",
      "         Current function value: 45.280057\n",
      "         Iterations: 98\n",
      "         Function evaluations: 177\n",
      "Optimized parameters: [0.58816433 5.84654158 0.65151857 0.70698619]\n",
      "Optimization terminated successfully.\n",
      "         Current function value: 10.708215\n",
      "         Iterations: 153\n",
      "         Function evaluations: 268\n",
      "Optimized parameters: [ 0.63177444 20.67945476  0.89068237  1.23267738]\n",
      "Optimization terminated successfully.\n",
      "         Current function value: 57.114301\n",
      "         Iterations: 118\n",
      "         Function evaluations: 207\n",
      "Optimized parameters: [ 0.36090102  4.46558468 -0.3873761   0.81953949]\n",
      "Optimization terminated successfully.\n",
      "         Current function value: 12.135330\n",
      "         Iterations: 119\n",
      "         Function evaluations: 215\n",
      "Optimized parameters: [ 0.8574909  12.76970403  0.78704007  0.74501814]\n",
      "Optimization terminated successfully.\n",
      "         Current function value: 18.739782\n",
      "         Iterations: 117\n",
      "         Function evaluations: 204\n",
      "Optimized parameters: [ 0.81251218 10.73662836 -0.70228929  0.49053519]\n",
      "Optimization terminated successfully.\n",
      "         Current function value: 57.909701\n",
      "         Iterations: 99\n",
      "         Function evaluations: 178\n",
      "Optimized parameters: [0.49904988 5.22171241 0.58186333 0.64964797]\n",
      "Optimization terminated successfully.\n",
      "         Current function value: 23.802527\n",
      "         Iterations: 106\n",
      "         Function evaluations: 184\n",
      "Optimized parameters: [0.53291492 7.97412801 0.23818342 0.65513323]\n",
      "Optimization terminated successfully.\n",
      "         Current function value: 51.792239\n",
      "         Iterations: 99\n",
      "         Function evaluations: 180\n",
      "Optimized parameters: [0.45959479 5.37415732 0.10684847 0.66043301]\n",
      "Optimization terminated successfully.\n",
      "         Current function value: 36.955676\n",
      "         Iterations: 98\n",
      "         Function evaluations: 177\n",
      "Optimized parameters: [0.62918714 5.38529367 0.26661595 0.81026322]\n",
      "Optimization terminated successfully.\n",
      "         Current function value: 65.727166\n",
      "         Iterations: 109\n",
      "         Function evaluations: 190\n",
      "Optimized parameters: [0.38573032 4.60300908 0.04455522 0.87183585]\n",
      "Optimization terminated successfully.\n",
      "         Current function value: 67.287628\n",
      "         Iterations: 147\n",
      "         Function evaluations: 254\n",
      "Optimized parameters: [0.51980209 3.53575146 1.07429889 0.71786821]\n",
      "Optimization terminated successfully.\n",
      "         Current function value: 61.551596\n",
      "         Iterations: 96\n",
      "         Function evaluations: 172\n",
      "Optimized parameters: [0.51706384 5.57419537 0.60758464 0.69793952]\n",
      "Optimization terminated successfully.\n",
      "         Current function value: 71.506087\n",
      "         Iterations: 121\n",
      "         Function evaluations: 214\n",
      "Optimized parameters: [0.69885498 4.39967987 0.63162542 0.48524022]\n",
      "Optimization terminated successfully.\n",
      "         Current function value: 35.285857\n",
      "         Iterations: 107\n",
      "         Function evaluations: 186\n",
      "Optimized parameters: [0.51191777 6.13624944 0.33950282 0.71839713]\n",
      "Optimization terminated successfully.\n",
      "         Current function value: 62.921749\n",
      "         Iterations: 117\n",
      "         Function evaluations: 204\n",
      "Optimized parameters: [ 0.30822302 10.89559713  0.12866037  0.5002528 ]\n",
      "Optimization terminated successfully.\n",
      "         Current function value: 55.795037\n",
      "         Iterations: 147\n",
      "         Function evaluations: 254\n",
      "Optimized parameters: [ 0.18260683  4.74098923 -0.24005045  1.64850358]\n",
      "Optimization terminated successfully.\n",
      "         Current function value: 67.592707\n",
      "         Iterations: 82\n",
      "         Function evaluations: 151\n",
      "Optimized parameters: [0.43873899 5.14116905 0.4436939  0.64133792]\n",
      "Optimization terminated successfully.\n",
      "         Current function value: 56.737532\n",
      "         Iterations: 105\n",
      "         Function evaluations: 182\n",
      "Optimized parameters: [0.46634903 8.0349657  0.54463827 0.62088114]\n",
      "Optimization terminated successfully.\n",
      "         Current function value: 65.147264\n",
      "         Iterations: 117\n",
      "         Function evaluations: 203\n",
      "Optimized parameters: [ 0.61837701  4.78858001 -0.25265008  0.60789391]\n",
      "Optimization terminated successfully.\n",
      "         Current function value: 61.163097\n",
      "         Iterations: 109\n",
      "         Function evaluations: 185\n",
      "Optimized parameters: [0.62443379 5.70580525 0.04869351 0.41059089]\n",
      "Optimization terminated successfully.\n",
      "         Current function value: 37.734158\n",
      "         Iterations: 97\n",
      "         Function evaluations: 175\n",
      "Optimized parameters: [0.71657751 5.74937761 0.05064279 0.52727421]\n",
      "Optimization terminated successfully.\n",
      "         Current function value: 95.129418\n",
      "         Iterations: 134\n",
      "         Function evaluations: 230\n",
      "Optimized parameters: [ 0.18078097  2.14361352 -0.48058951  1.48428864]\n",
      "Optimization terminated successfully.\n",
      "         Current function value: 55.136358\n",
      "         Iterations: 85\n",
      "         Function evaluations: 146\n",
      "Optimized parameters: [0.45203467 6.72269006 0.29500181 0.53263212]\n",
      "Optimization terminated successfully.\n",
      "         Current function value: 41.252685\n",
      "         Iterations: 125\n",
      "         Function evaluations: 217\n",
      "Optimized parameters: [ 0.5471419   5.49903627 -0.39314921  0.88854999]\n"
     ]
    }
   ],
   "source": [
    "ideal_params_alt = param_finder_alt(choices_drop,outcomes_df)"
   ]
  },
  {
   "cell_type": "code",
   "execution_count": 12,
   "metadata": {},
   "outputs": [
    {
     "name": "stdout",
     "output_type": "stream",
     "text": [
      "Mean alpha value: 0.69\n",
      "Variance of alpha values: 0.50\n",
      "Mean beta value: 5.71\n",
      "Variance of beta values: 8.61\n",
      "Mean A value: 0.92\n",
      "Variance of A values: 0.92\n"
     ]
    },
    {
     "data": {
      "image/png": "[encoded data removed]",
      "text/plain": [
       "<Figure size 640x480 with 1 Axes>"
      ]
     },
     "metadata": {},
     "output_type": "display_data"
    },
    {
     "data": {
      "image/png": "[encoded data removed]",
      "text/plain": [
       "<Figure size 640x480 with 1 Axes>"
      ]
     },
     "metadata": {},
     "output_type": "display_data"
    },
    {
     "data": {
      "image/png": "[encoded data removed]",
      "text/plain": [
       "<Figure size 640x480 with 1 Axes>"
      ]
     },
     "metadata": {},
     "output_type": "display_data"
    },
    {
     "name": "stdout",
     "output_type": "stream",
     "text": [
      "Pearson's correlation coefficient between alpha and beta: -0.14\n",
      "Pearson's correlation coefficient between alpha and beta within high anxious group: -0.39\n",
      "Pearson's correlation coefficient between alpha and beta within low anxious group: 0.39\n",
      "Alpha t-statistic: 1.6694420097859322\n",
      "Alpha degrees of freedom: 48\n",
      "Alpha p-value: 0.10732215573169972\n",
      "Beta t-statistic: -2.369103372435506\n",
      "Beta degrees of freedom: 48\n",
      "Beta p-value: 0.024447916606585116\n"
     ]
    }
   ],
   "source": [
    "model_fitting_alt(ideal_params_alt )"
   ]
  },
  {
   "cell_type": "code",
   "execution_count": null,
   "metadata": {},
   "outputs": [],
   "source": []
  }
 ],
 "metadata": {
  "kernelspec": {
   "display_name": "Python 3.9.0 64-bit ('3.9.0')",
   "language": "python",
   "name": "python3"
  },
  "language_info": {
   "codemirror_mode": {
    "name": "ipython",
    "version": 3
   },
   "file_extension": ".py",
   "mimetype": "text/x-python",
   "name": "python",
   "nbconvert_exporter": "python",
   "pygments_lexer": "ipython3",
   "version": "3.9.0"
  },
  "orig_nbformat": 4,
  "vscode": {
   "interpreter": {
    "hash": "e473e9e2ee5572db6cc3901850ca01b485c57a9f747b159483413d4911eec123"
   }
  }
 },
 "nbformat": 4,
 "nbformat_minor": 2
}
